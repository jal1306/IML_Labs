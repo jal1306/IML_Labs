{
 "cells": [
  {
   "cell_type": "code",
   "execution_count": 1,
   "id": "d0b4a143",
   "metadata": {
    "_cell_guid": "b1076dfc-b9ad-4769-8c92-a6c4dae69d19",
    "_uuid": "8f2839f25d086af736a60e9eeb907d3b93b6e0e5",
    "execution": {
     "iopub.execute_input": "2023-10-28T11:37:56.574793Z",
     "iopub.status.busy": "2023-10-28T11:37:56.573986Z",
     "iopub.status.idle": "2023-10-28T11:37:56.935553Z",
     "shell.execute_reply": "2023-10-28T11:37:56.934718Z"
    },
    "papermill": {
     "duration": 0.371907,
     "end_time": "2023-10-28T11:37:56.937893",
     "exception": false,
     "start_time": "2023-10-28T11:37:56.565986",
     "status": "completed"
    },
    "tags": []
   },
   "outputs": [],
   "source": [
    "import numpy as np\n",
    "import pandas as pd"
   ]
  },
  {
   "cell_type": "code",
   "execution_count": 2,
   "id": "04586030",
   "metadata": {
    "execution": {
     "iopub.execute_input": "2023-10-28T11:37:56.951284Z",
     "iopub.status.busy": "2023-10-28T11:37:56.950637Z",
     "iopub.status.idle": "2023-10-28T11:37:57.619373Z",
     "shell.execute_reply": "2023-10-28T11:37:57.618564Z"
    },
    "papermill": {
     "duration": 0.677884,
     "end_time": "2023-10-28T11:37:57.621699",
     "exception": false,
     "start_time": "2023-10-28T11:37:56.943815",
     "status": "completed"
    },
    "tags": []
   },
   "outputs": [],
   "source": [
    "match = pd.read_csv(\"/kaggle/input/ipl-data-set/matches.csv\")\n",
    "delivery = pd.read_csv(\"/kaggle/input/ipl-data-set/deliveries.csv\")"
   ]
  },
  {
   "cell_type": "code",
   "execution_count": 3,
   "id": "d08ebe78",
   "metadata": {
    "execution": {
     "iopub.execute_input": "2023-10-28T11:37:57.634716Z",
     "iopub.status.busy": "2023-10-28T11:37:57.634152Z",
     "iopub.status.idle": "2023-10-28T11:37:57.662344Z",
     "shell.execute_reply": "2023-10-28T11:37:57.661246Z"
    },
    "papermill": {
     "duration": 0.037873,
     "end_time": "2023-10-28T11:37:57.665300",
     "exception": false,
     "start_time": "2023-10-28T11:37:57.627427",
     "status": "completed"
    },
    "tags": []
   },
   "outputs": [
    {
     "data": {
      "text/html": [
       "<div>\n",
       "<style scoped>\n",
       "    .dataframe tbody tr th:only-of-type {\n",
       "        vertical-align: middle;\n",
       "    }\n",
       "\n",
       "    .dataframe tbody tr th {\n",
       "        vertical-align: top;\n",
       "    }\n",
       "\n",
       "    .dataframe thead th {\n",
       "        text-align: right;\n",
       "    }\n",
       "</style>\n",
       "<table border=\"1\" class=\"dataframe\">\n",
       "  <thead>\n",
       "    <tr style=\"text-align: right;\">\n",
       "      <th></th>\n",
       "      <th>id</th>\n",
       "      <th>Season</th>\n",
       "      <th>city</th>\n",
       "      <th>date</th>\n",
       "      <th>team1</th>\n",
       "      <th>team2</th>\n",
       "      <th>toss_winner</th>\n",
       "      <th>toss_decision</th>\n",
       "      <th>result</th>\n",
       "      <th>dl_applied</th>\n",
       "      <th>winner</th>\n",
       "      <th>win_by_runs</th>\n",
       "      <th>win_by_wickets</th>\n",
       "      <th>player_of_match</th>\n",
       "      <th>venue</th>\n",
       "      <th>umpire1</th>\n",
       "      <th>umpire2</th>\n",
       "      <th>umpire3</th>\n",
       "    </tr>\n",
       "  </thead>\n",
       "  <tbody>\n",
       "    <tr>\n",
       "      <th>0</th>\n",
       "      <td>1</td>\n",
       "      <td>IPL-2017</td>\n",
       "      <td>Hyderabad</td>\n",
       "      <td>05-04-2017</td>\n",
       "      <td>Sunrisers Hyderabad</td>\n",
       "      <td>Royal Challengers Bangalore</td>\n",
       "      <td>Royal Challengers Bangalore</td>\n",
       "      <td>field</td>\n",
       "      <td>normal</td>\n",
       "      <td>0</td>\n",
       "      <td>Sunrisers Hyderabad</td>\n",
       "      <td>35</td>\n",
       "      <td>0</td>\n",
       "      <td>Yuvraj Singh</td>\n",
       "      <td>Rajiv Gandhi International Stadium, Uppal</td>\n",
       "      <td>AY Dandekar</td>\n",
       "      <td>NJ Llong</td>\n",
       "      <td>NaN</td>\n",
       "    </tr>\n",
       "    <tr>\n",
       "      <th>1</th>\n",
       "      <td>2</td>\n",
       "      <td>IPL-2017</td>\n",
       "      <td>Pune</td>\n",
       "      <td>06-04-2017</td>\n",
       "      <td>Mumbai Indians</td>\n",
       "      <td>Rising Pune Supergiant</td>\n",
       "      <td>Rising Pune Supergiant</td>\n",
       "      <td>field</td>\n",
       "      <td>normal</td>\n",
       "      <td>0</td>\n",
       "      <td>Rising Pune Supergiant</td>\n",
       "      <td>0</td>\n",
       "      <td>7</td>\n",
       "      <td>SPD Smith</td>\n",
       "      <td>Maharashtra Cricket Association Stadium</td>\n",
       "      <td>A Nand Kishore</td>\n",
       "      <td>S Ravi</td>\n",
       "      <td>NaN</td>\n",
       "    </tr>\n",
       "    <tr>\n",
       "      <th>2</th>\n",
       "      <td>3</td>\n",
       "      <td>IPL-2017</td>\n",
       "      <td>Rajkot</td>\n",
       "      <td>07-04-2017</td>\n",
       "      <td>Gujarat Lions</td>\n",
       "      <td>Kolkata Knight Riders</td>\n",
       "      <td>Kolkata Knight Riders</td>\n",
       "      <td>field</td>\n",
       "      <td>normal</td>\n",
       "      <td>0</td>\n",
       "      <td>Kolkata Knight Riders</td>\n",
       "      <td>0</td>\n",
       "      <td>10</td>\n",
       "      <td>CA Lynn</td>\n",
       "      <td>Saurashtra Cricket Association Stadium</td>\n",
       "      <td>Nitin Menon</td>\n",
       "      <td>CK Nandan</td>\n",
       "      <td>NaN</td>\n",
       "    </tr>\n",
       "    <tr>\n",
       "      <th>3</th>\n",
       "      <td>4</td>\n",
       "      <td>IPL-2017</td>\n",
       "      <td>Indore</td>\n",
       "      <td>08-04-2017</td>\n",
       "      <td>Rising Pune Supergiant</td>\n",
       "      <td>Kings XI Punjab</td>\n",
       "      <td>Kings XI Punjab</td>\n",
       "      <td>field</td>\n",
       "      <td>normal</td>\n",
       "      <td>0</td>\n",
       "      <td>Kings XI Punjab</td>\n",
       "      <td>0</td>\n",
       "      <td>6</td>\n",
       "      <td>GJ Maxwell</td>\n",
       "      <td>Holkar Cricket Stadium</td>\n",
       "      <td>AK Chaudhary</td>\n",
       "      <td>C Shamshuddin</td>\n",
       "      <td>NaN</td>\n",
       "    </tr>\n",
       "    <tr>\n",
       "      <th>4</th>\n",
       "      <td>5</td>\n",
       "      <td>IPL-2017</td>\n",
       "      <td>Bangalore</td>\n",
       "      <td>08-04-2017</td>\n",
       "      <td>Royal Challengers Bangalore</td>\n",
       "      <td>Delhi Daredevils</td>\n",
       "      <td>Royal Challengers Bangalore</td>\n",
       "      <td>bat</td>\n",
       "      <td>normal</td>\n",
       "      <td>0</td>\n",
       "      <td>Royal Challengers Bangalore</td>\n",
       "      <td>15</td>\n",
       "      <td>0</td>\n",
       "      <td>KM Jadhav</td>\n",
       "      <td>M Chinnaswamy Stadium</td>\n",
       "      <td>NaN</td>\n",
       "      <td>NaN</td>\n",
       "      <td>NaN</td>\n",
       "    </tr>\n",
       "  </tbody>\n",
       "</table>\n",
       "</div>"
      ],
      "text/plain": [
       "   id    Season       city        date                        team1  \\\n",
       "0   1  IPL-2017  Hyderabad  05-04-2017          Sunrisers Hyderabad   \n",
       "1   2  IPL-2017       Pune  06-04-2017               Mumbai Indians   \n",
       "2   3  IPL-2017     Rajkot  07-04-2017                Gujarat Lions   \n",
       "3   4  IPL-2017     Indore  08-04-2017       Rising Pune Supergiant   \n",
       "4   5  IPL-2017  Bangalore  08-04-2017  Royal Challengers Bangalore   \n",
       "\n",
       "                         team2                  toss_winner toss_decision  \\\n",
       "0  Royal Challengers Bangalore  Royal Challengers Bangalore         field   \n",
       "1       Rising Pune Supergiant       Rising Pune Supergiant         field   \n",
       "2        Kolkata Knight Riders        Kolkata Knight Riders         field   \n",
       "3              Kings XI Punjab              Kings XI Punjab         field   \n",
       "4             Delhi Daredevils  Royal Challengers Bangalore           bat   \n",
       "\n",
       "   result  dl_applied                       winner  win_by_runs  \\\n",
       "0  normal           0          Sunrisers Hyderabad           35   \n",
       "1  normal           0       Rising Pune Supergiant            0   \n",
       "2  normal           0        Kolkata Knight Riders            0   \n",
       "3  normal           0              Kings XI Punjab            0   \n",
       "4  normal           0  Royal Challengers Bangalore           15   \n",
       "\n",
       "   win_by_wickets player_of_match                                      venue  \\\n",
       "0               0    Yuvraj Singh  Rajiv Gandhi International Stadium, Uppal   \n",
       "1               7       SPD Smith    Maharashtra Cricket Association Stadium   \n",
       "2              10         CA Lynn     Saurashtra Cricket Association Stadium   \n",
       "3               6      GJ Maxwell                     Holkar Cricket Stadium   \n",
       "4               0       KM Jadhav                      M Chinnaswamy Stadium   \n",
       "\n",
       "          umpire1        umpire2 umpire3  \n",
       "0     AY Dandekar       NJ Llong     NaN  \n",
       "1  A Nand Kishore         S Ravi     NaN  \n",
       "2     Nitin Menon      CK Nandan     NaN  \n",
       "3    AK Chaudhary  C Shamshuddin     NaN  \n",
       "4             NaN            NaN     NaN  "
      ]
     },
     "execution_count": 3,
     "metadata": {},
     "output_type": "execute_result"
    }
   ],
   "source": [
    "match.head()"
   ]
  },
  {
   "cell_type": "code",
   "execution_count": 4,
   "id": "f6797790",
   "metadata": {
    "execution": {
     "iopub.execute_input": "2023-10-28T11:37:57.679918Z",
     "iopub.status.busy": "2023-10-28T11:37:57.679531Z",
     "iopub.status.idle": "2023-10-28T11:37:57.686607Z",
     "shell.execute_reply": "2023-10-28T11:37:57.685628Z"
    },
    "papermill": {
     "duration": 0.01717,
     "end_time": "2023-10-28T11:37:57.688806",
     "exception": false,
     "start_time": "2023-10-28T11:37:57.671636",
     "status": "completed"
    },
    "tags": []
   },
   "outputs": [
    {
     "data": {
      "text/plain": [
       "(756, 18)"
      ]
     },
     "execution_count": 4,
     "metadata": {},
     "output_type": "execute_result"
    }
   ],
   "source": [
    "match.shape"
   ]
  },
  {
   "cell_type": "code",
   "execution_count": 5,
   "id": "a11eaefc",
   "metadata": {
    "execution": {
     "iopub.execute_input": "2023-10-28T11:37:57.702849Z",
     "iopub.status.busy": "2023-10-28T11:37:57.702480Z",
     "iopub.status.idle": "2023-10-28T11:37:57.729604Z",
     "shell.execute_reply": "2023-10-28T11:37:57.728384Z"
    },
    "papermill": {
     "duration": 0.036746,
     "end_time": "2023-10-28T11:37:57.731745",
     "exception": false,
     "start_time": "2023-10-28T11:37:57.694999",
     "status": "completed"
    },
    "tags": []
   },
   "outputs": [
    {
     "data": {
      "text/html": [
       "<div>\n",
       "<style scoped>\n",
       "    .dataframe tbody tr th:only-of-type {\n",
       "        vertical-align: middle;\n",
       "    }\n",
       "\n",
       "    .dataframe tbody tr th {\n",
       "        vertical-align: top;\n",
       "    }\n",
       "\n",
       "    .dataframe thead th {\n",
       "        text-align: right;\n",
       "    }\n",
       "</style>\n",
       "<table border=\"1\" class=\"dataframe\">\n",
       "  <thead>\n",
       "    <tr style=\"text-align: right;\">\n",
       "      <th></th>\n",
       "      <th>match_id</th>\n",
       "      <th>inning</th>\n",
       "      <th>batting_team</th>\n",
       "      <th>bowling_team</th>\n",
       "      <th>over</th>\n",
       "      <th>ball</th>\n",
       "      <th>batsman</th>\n",
       "      <th>non_striker</th>\n",
       "      <th>bowler</th>\n",
       "      <th>is_super_over</th>\n",
       "      <th>...</th>\n",
       "      <th>bye_runs</th>\n",
       "      <th>legbye_runs</th>\n",
       "      <th>noball_runs</th>\n",
       "      <th>penalty_runs</th>\n",
       "      <th>batsman_runs</th>\n",
       "      <th>extra_runs</th>\n",
       "      <th>total_runs</th>\n",
       "      <th>player_dismissed</th>\n",
       "      <th>dismissal_kind</th>\n",
       "      <th>fielder</th>\n",
       "    </tr>\n",
       "  </thead>\n",
       "  <tbody>\n",
       "    <tr>\n",
       "      <th>0</th>\n",
       "      <td>1</td>\n",
       "      <td>1</td>\n",
       "      <td>Sunrisers Hyderabad</td>\n",
       "      <td>Royal Challengers Bangalore</td>\n",
       "      <td>1</td>\n",
       "      <td>1</td>\n",
       "      <td>DA Warner</td>\n",
       "      <td>S Dhawan</td>\n",
       "      <td>TS Mills</td>\n",
       "      <td>0</td>\n",
       "      <td>...</td>\n",
       "      <td>0</td>\n",
       "      <td>0</td>\n",
       "      <td>0</td>\n",
       "      <td>0</td>\n",
       "      <td>0</td>\n",
       "      <td>0</td>\n",
       "      <td>0</td>\n",
       "      <td>NaN</td>\n",
       "      <td>NaN</td>\n",
       "      <td>NaN</td>\n",
       "    </tr>\n",
       "    <tr>\n",
       "      <th>1</th>\n",
       "      <td>1</td>\n",
       "      <td>1</td>\n",
       "      <td>Sunrisers Hyderabad</td>\n",
       "      <td>Royal Challengers Bangalore</td>\n",
       "      <td>1</td>\n",
       "      <td>2</td>\n",
       "      <td>DA Warner</td>\n",
       "      <td>S Dhawan</td>\n",
       "      <td>TS Mills</td>\n",
       "      <td>0</td>\n",
       "      <td>...</td>\n",
       "      <td>0</td>\n",
       "      <td>0</td>\n",
       "      <td>0</td>\n",
       "      <td>0</td>\n",
       "      <td>0</td>\n",
       "      <td>0</td>\n",
       "      <td>0</td>\n",
       "      <td>NaN</td>\n",
       "      <td>NaN</td>\n",
       "      <td>NaN</td>\n",
       "    </tr>\n",
       "    <tr>\n",
       "      <th>2</th>\n",
       "      <td>1</td>\n",
       "      <td>1</td>\n",
       "      <td>Sunrisers Hyderabad</td>\n",
       "      <td>Royal Challengers Bangalore</td>\n",
       "      <td>1</td>\n",
       "      <td>3</td>\n",
       "      <td>DA Warner</td>\n",
       "      <td>S Dhawan</td>\n",
       "      <td>TS Mills</td>\n",
       "      <td>0</td>\n",
       "      <td>...</td>\n",
       "      <td>0</td>\n",
       "      <td>0</td>\n",
       "      <td>0</td>\n",
       "      <td>0</td>\n",
       "      <td>4</td>\n",
       "      <td>0</td>\n",
       "      <td>4</td>\n",
       "      <td>NaN</td>\n",
       "      <td>NaN</td>\n",
       "      <td>NaN</td>\n",
       "    </tr>\n",
       "    <tr>\n",
       "      <th>3</th>\n",
       "      <td>1</td>\n",
       "      <td>1</td>\n",
       "      <td>Sunrisers Hyderabad</td>\n",
       "      <td>Royal Challengers Bangalore</td>\n",
       "      <td>1</td>\n",
       "      <td>4</td>\n",
       "      <td>DA Warner</td>\n",
       "      <td>S Dhawan</td>\n",
       "      <td>TS Mills</td>\n",
       "      <td>0</td>\n",
       "      <td>...</td>\n",
       "      <td>0</td>\n",
       "      <td>0</td>\n",
       "      <td>0</td>\n",
       "      <td>0</td>\n",
       "      <td>0</td>\n",
       "      <td>0</td>\n",
       "      <td>0</td>\n",
       "      <td>NaN</td>\n",
       "      <td>NaN</td>\n",
       "      <td>NaN</td>\n",
       "    </tr>\n",
       "    <tr>\n",
       "      <th>4</th>\n",
       "      <td>1</td>\n",
       "      <td>1</td>\n",
       "      <td>Sunrisers Hyderabad</td>\n",
       "      <td>Royal Challengers Bangalore</td>\n",
       "      <td>1</td>\n",
       "      <td>5</td>\n",
       "      <td>DA Warner</td>\n",
       "      <td>S Dhawan</td>\n",
       "      <td>TS Mills</td>\n",
       "      <td>0</td>\n",
       "      <td>...</td>\n",
       "      <td>0</td>\n",
       "      <td>0</td>\n",
       "      <td>0</td>\n",
       "      <td>0</td>\n",
       "      <td>0</td>\n",
       "      <td>2</td>\n",
       "      <td>2</td>\n",
       "      <td>NaN</td>\n",
       "      <td>NaN</td>\n",
       "      <td>NaN</td>\n",
       "    </tr>\n",
       "  </tbody>\n",
       "</table>\n",
       "<p>5 rows × 21 columns</p>\n",
       "</div>"
      ],
      "text/plain": [
       "   match_id  inning         batting_team                 bowling_team  over  \\\n",
       "0         1       1  Sunrisers Hyderabad  Royal Challengers Bangalore     1   \n",
       "1         1       1  Sunrisers Hyderabad  Royal Challengers Bangalore     1   \n",
       "2         1       1  Sunrisers Hyderabad  Royal Challengers Bangalore     1   \n",
       "3         1       1  Sunrisers Hyderabad  Royal Challengers Bangalore     1   \n",
       "4         1       1  Sunrisers Hyderabad  Royal Challengers Bangalore     1   \n",
       "\n",
       "   ball    batsman non_striker    bowler  is_super_over  ...  bye_runs  \\\n",
       "0     1  DA Warner    S Dhawan  TS Mills              0  ...         0   \n",
       "1     2  DA Warner    S Dhawan  TS Mills              0  ...         0   \n",
       "2     3  DA Warner    S Dhawan  TS Mills              0  ...         0   \n",
       "3     4  DA Warner    S Dhawan  TS Mills              0  ...         0   \n",
       "4     5  DA Warner    S Dhawan  TS Mills              0  ...         0   \n",
       "\n",
       "   legbye_runs  noball_runs  penalty_runs  batsman_runs  extra_runs  \\\n",
       "0            0            0             0             0           0   \n",
       "1            0            0             0             0           0   \n",
       "2            0            0             0             4           0   \n",
       "3            0            0             0             0           0   \n",
       "4            0            0             0             0           2   \n",
       "\n",
       "   total_runs  player_dismissed dismissal_kind fielder  \n",
       "0           0               NaN            NaN     NaN  \n",
       "1           0               NaN            NaN     NaN  \n",
       "2           4               NaN            NaN     NaN  \n",
       "3           0               NaN            NaN     NaN  \n",
       "4           2               NaN            NaN     NaN  \n",
       "\n",
       "[5 rows x 21 columns]"
      ]
     },
     "execution_count": 5,
     "metadata": {},
     "output_type": "execute_result"
    }
   ],
   "source": [
    "delivery.head()"
   ]
  },
  {
   "cell_type": "code",
   "execution_count": 6,
   "id": "29d11b13",
   "metadata": {
    "execution": {
     "iopub.execute_input": "2023-10-28T11:37:57.746506Z",
     "iopub.status.busy": "2023-10-28T11:37:57.746098Z",
     "iopub.status.idle": "2023-10-28T11:37:57.951071Z",
     "shell.execute_reply": "2023-10-28T11:37:57.949994Z"
    },
    "papermill": {
     "duration": 0.215542,
     "end_time": "2023-10-28T11:37:57.953799",
     "exception": false,
     "start_time": "2023-10-28T11:37:57.738257",
     "status": "completed"
    },
    "tags": []
   },
   "outputs": [],
   "source": [
    "total_score_df = delivery.groupby(['match_id','inning']).sum()['total_runs'].reset_index()"
   ]
  },
  {
   "cell_type": "code",
   "execution_count": 7,
   "id": "bcee5a2f",
   "metadata": {
    "execution": {
     "iopub.execute_input": "2023-10-28T11:37:57.968628Z",
     "iopub.status.busy": "2023-10-28T11:37:57.967998Z",
     "iopub.status.idle": "2023-10-28T11:37:57.974086Z",
     "shell.execute_reply": "2023-10-28T11:37:57.973173Z"
    },
    "papermill": {
     "duration": 0.015756,
     "end_time": "2023-10-28T11:37:57.976148",
     "exception": false,
     "start_time": "2023-10-28T11:37:57.960392",
     "status": "completed"
    },
    "tags": []
   },
   "outputs": [],
   "source": [
    "total_score_df = total_score_df[total_score_df['inning'] == 1]"
   ]
  },
  {
   "cell_type": "code",
   "execution_count": 8,
   "id": "0097e16f",
   "metadata": {
    "execution": {
     "iopub.execute_input": "2023-10-28T11:37:57.990997Z",
     "iopub.status.busy": "2023-10-28T11:37:57.990192Z",
     "iopub.status.idle": "2023-10-28T11:37:58.003205Z",
     "shell.execute_reply": "2023-10-28T11:37:58.002310Z"
    },
    "papermill": {
     "duration": 0.023079,
     "end_time": "2023-10-28T11:37:58.005605",
     "exception": false,
     "start_time": "2023-10-28T11:37:57.982526",
     "status": "completed"
    },
    "tags": []
   },
   "outputs": [],
   "source": [
    "match_df = match.merge(total_score_df[['match_id','total_runs']],left_on='id',right_on='match_id')"
   ]
  },
  {
   "cell_type": "code",
   "execution_count": 9,
   "id": "d6d8cb81",
   "metadata": {
    "execution": {
     "iopub.execute_input": "2023-10-28T11:37:58.020869Z",
     "iopub.status.busy": "2023-10-28T11:37:58.019804Z",
     "iopub.status.idle": "2023-10-28T11:37:58.028386Z",
     "shell.execute_reply": "2023-10-28T11:37:58.027618Z"
    },
    "papermill": {
     "duration": 0.018198,
     "end_time": "2023-10-28T11:37:58.030283",
     "exception": false,
     "start_time": "2023-10-28T11:37:58.012085",
     "status": "completed"
    },
    "tags": []
   },
   "outputs": [
    {
     "data": {
      "text/plain": [
       "array(['Sunrisers Hyderabad', 'Mumbai Indians', 'Gujarat Lions',\n",
       "       'Rising Pune Supergiant', 'Royal Challengers Bangalore',\n",
       "       'Kolkata Knight Riders', 'Delhi Daredevils', 'Kings XI Punjab',\n",
       "       'Chennai Super Kings', 'Rajasthan Royals', 'Deccan Chargers',\n",
       "       'Kochi Tuskers Kerala', 'Pune Warriors', 'Rising Pune Supergiants',\n",
       "       'Delhi Capitals'], dtype=object)"
      ]
     },
     "execution_count": 9,
     "metadata": {},
     "output_type": "execute_result"
    }
   ],
   "source": [
    "match_df['team1'].unique()"
   ]
  },
  {
   "cell_type": "code",
   "execution_count": 10,
   "id": "d1dd5da9",
   "metadata": {
    "execution": {
     "iopub.execute_input": "2023-10-28T11:37:58.045727Z",
     "iopub.status.busy": "2023-10-28T11:37:58.045024Z",
     "iopub.status.idle": "2023-10-28T11:37:58.049355Z",
     "shell.execute_reply": "2023-10-28T11:37:58.048348Z"
    },
    "papermill": {
     "duration": 0.014396,
     "end_time": "2023-10-28T11:37:58.051320",
     "exception": false,
     "start_time": "2023-10-28T11:37:58.036924",
     "status": "completed"
    },
    "tags": []
   },
   "outputs": [],
   "source": [
    "teams = ['Sunrises Hyderabad','Mumbai Indians','Royal Challengers Bangalore','Kolkata Knight Riders',\n",
    "        'Kings XI Punjab','Chennai Super Kings','Rajasthan Royals','Delhi Capitals']"
   ]
  },
  {
   "cell_type": "code",
   "execution_count": 11,
   "id": "04820e6b",
   "metadata": {
    "execution": {
     "iopub.execute_input": "2023-10-28T11:37:58.066065Z",
     "iopub.status.busy": "2023-10-28T11:37:58.065653Z",
     "iopub.status.idle": "2023-10-28T11:37:58.075564Z",
     "shell.execute_reply": "2023-10-28T11:37:58.074485Z"
    },
    "papermill": {
     "duration": 0.019462,
     "end_time": "2023-10-28T11:37:58.077412",
     "exception": false,
     "start_time": "2023-10-28T11:37:58.057950",
     "status": "completed"
    },
    "tags": []
   },
   "outputs": [],
   "source": [
    "match_df['team1'] = match_df['team1'].str.replace('Delhi Daredevils','Delhi Capitals')\n",
    "match_df['team2'] = match_df['team2'].str.replace('Delhi Daredevils','Delhi Capitals')\n",
    "\n",
    "match_df['team1'] = match_df['team1'].str.replace('Deccan Chargers','Sunrisers Hyderabad')\n",
    "match_df['team2'] = match_df['team2'].str.replace('Deccan Chargers','Sunrisers Hyderabad')"
   ]
  },
  {
   "cell_type": "code",
   "execution_count": 12,
   "id": "c61ebbb3",
   "metadata": {
    "execution": {
     "iopub.execute_input": "2023-10-28T11:37:58.092464Z",
     "iopub.status.busy": "2023-10-28T11:37:58.091852Z",
     "iopub.status.idle": "2023-10-28T11:37:58.100682Z",
     "shell.execute_reply": "2023-10-28T11:37:58.099874Z"
    },
    "papermill": {
     "duration": 0.01891,
     "end_time": "2023-10-28T11:37:58.102994",
     "exception": false,
     "start_time": "2023-10-28T11:37:58.084084",
     "status": "completed"
    },
    "tags": []
   },
   "outputs": [],
   "source": [
    "match_df = match_df[match_df['team1'].isin(teams)]\n",
    "match_df = match_df[match_df['team2'].isin(teams)]"
   ]
  },
  {
   "cell_type": "code",
   "execution_count": 13,
   "id": "306c3e43",
   "metadata": {
    "execution": {
     "iopub.execute_input": "2023-10-28T11:37:58.118335Z",
     "iopub.status.busy": "2023-10-28T11:37:58.117659Z",
     "iopub.status.idle": "2023-10-28T11:37:58.123093Z",
     "shell.execute_reply": "2023-10-28T11:37:58.122259Z"
    },
    "papermill": {
     "duration": 0.015387,
     "end_time": "2023-10-28T11:37:58.124959",
     "exception": false,
     "start_time": "2023-10-28T11:37:58.109572",
     "status": "completed"
    },
    "tags": []
   },
   "outputs": [
    {
     "data": {
      "text/plain": [
       "(474, 20)"
      ]
     },
     "execution_count": 13,
     "metadata": {},
     "output_type": "execute_result"
    }
   ],
   "source": [
    "match_df.shape"
   ]
  },
  {
   "cell_type": "code",
   "execution_count": 14,
   "id": "ae7b6591",
   "metadata": {
    "execution": {
     "iopub.execute_input": "2023-10-28T11:37:58.140317Z",
     "iopub.status.busy": "2023-10-28T11:37:58.139677Z",
     "iopub.status.idle": "2023-10-28T11:37:58.144906Z",
     "shell.execute_reply": "2023-10-28T11:37:58.144059Z"
    },
    "papermill": {
     "duration": 0.015274,
     "end_time": "2023-10-28T11:37:58.146942",
     "exception": false,
     "start_time": "2023-10-28T11:37:58.131668",
     "status": "completed"
    },
    "tags": []
   },
   "outputs": [],
   "source": [
    "match_df = match_df[match_df['dl_applied'] == 0]"
   ]
  },
  {
   "cell_type": "code",
   "execution_count": 15,
   "id": "6138aac7",
   "metadata": {
    "execution": {
     "iopub.execute_input": "2023-10-28T11:37:58.162229Z",
     "iopub.status.busy": "2023-10-28T11:37:58.161584Z",
     "iopub.status.idle": "2023-10-28T11:37:58.166449Z",
     "shell.execute_reply": "2023-10-28T11:37:58.165770Z"
    },
    "papermill": {
     "duration": 0.014822,
     "end_time": "2023-10-28T11:37:58.168382",
     "exception": false,
     "start_time": "2023-10-28T11:37:58.153560",
     "status": "completed"
    },
    "tags": []
   },
   "outputs": [],
   "source": [
    "match_df = match_df[['match_id','city','winner','total_runs']]"
   ]
  },
  {
   "cell_type": "code",
   "execution_count": 16,
   "id": "133478cf",
   "metadata": {
    "execution": {
     "iopub.execute_input": "2023-10-28T11:37:58.183725Z",
     "iopub.status.busy": "2023-10-28T11:37:58.183099Z",
     "iopub.status.idle": "2023-10-28T11:37:58.264498Z",
     "shell.execute_reply": "2023-10-28T11:37:58.263378Z"
    },
    "papermill": {
     "duration": 0.091794,
     "end_time": "2023-10-28T11:37:58.266952",
     "exception": false,
     "start_time": "2023-10-28T11:37:58.175158",
     "status": "completed"
    },
    "tags": []
   },
   "outputs": [],
   "source": [
    "delivery_df = match_df.merge(delivery,on='match_id')"
   ]
  },
  {
   "cell_type": "code",
   "execution_count": 17,
   "id": "44ef3c4c",
   "metadata": {
    "execution": {
     "iopub.execute_input": "2023-10-28T11:37:58.281913Z",
     "iopub.status.busy": "2023-10-28T11:37:58.281288Z",
     "iopub.status.idle": "2023-10-28T11:37:58.301193Z",
     "shell.execute_reply": "2023-10-28T11:37:58.300079Z"
    },
    "papermill": {
     "duration": 0.029789,
     "end_time": "2023-10-28T11:37:58.303441",
     "exception": false,
     "start_time": "2023-10-28T11:37:58.273652",
     "status": "completed"
    },
    "tags": []
   },
   "outputs": [],
   "source": [
    "delivery_df = delivery_df[delivery_df['inning'] == 2]"
   ]
  },
  {
   "cell_type": "code",
   "execution_count": 18,
   "id": "4db187e1",
   "metadata": {
    "execution": {
     "iopub.execute_input": "2023-10-28T11:37:58.318931Z",
     "iopub.status.busy": "2023-10-28T11:37:58.318061Z",
     "iopub.status.idle": "2023-10-28T11:37:58.323504Z",
     "shell.execute_reply": "2023-10-28T11:37:58.322841Z"
    },
    "papermill": {
     "duration": 0.015067,
     "end_time": "2023-10-28T11:37:58.325264",
     "exception": false,
     "start_time": "2023-10-28T11:37:58.310197",
     "status": "completed"
    },
    "tags": []
   },
   "outputs": [
    {
     "data": {
      "text/plain": [
       "(53223, 24)"
      ]
     },
     "execution_count": 18,
     "metadata": {},
     "output_type": "execute_result"
    }
   ],
   "source": [
    "delivery_df.shape"
   ]
  },
  {
   "cell_type": "code",
   "execution_count": null,
   "id": "129b83c1",
   "metadata": {
    "papermill": {
     "duration": 0.006381,
     "end_time": "2023-10-28T11:37:58.338298",
     "exception": false,
     "start_time": "2023-10-28T11:37:58.331917",
     "status": "completed"
    },
    "tags": []
   },
   "outputs": [],
   "source": []
  },
  {
   "cell_type": "code",
   "execution_count": 19,
   "id": "22202152",
   "metadata": {
    "execution": {
     "iopub.execute_input": "2023-10-28T11:37:58.353778Z",
     "iopub.status.busy": "2023-10-28T11:37:58.353336Z",
     "iopub.status.idle": "2023-10-28T11:37:58.362315Z",
     "shell.execute_reply": "2023-10-28T11:37:58.361215Z"
    },
    "papermill": {
     "duration": 0.019372,
     "end_time": "2023-10-28T11:37:58.364440",
     "exception": false,
     "start_time": "2023-10-28T11:37:58.345068",
     "status": "completed"
    },
    "tags": []
   },
   "outputs": [],
   "source": [
    "delivery_df['current_score'] = delivery_df.groupby('match_id')['total_runs_y'].transform('cumsum')"
   ]
  },
  {
   "cell_type": "code",
   "execution_count": 20,
   "id": "9121e9be",
   "metadata": {
    "execution": {
     "iopub.execute_input": "2023-10-28T11:37:58.379323Z",
     "iopub.status.busy": "2023-10-28T11:37:58.378952Z",
     "iopub.status.idle": "2023-10-28T11:37:58.385207Z",
     "shell.execute_reply": "2023-10-28T11:37:58.384237Z"
    },
    "papermill": {
     "duration": 0.015892,
     "end_time": "2023-10-28T11:37:58.387002",
     "exception": false,
     "start_time": "2023-10-28T11:37:58.371110",
     "status": "completed"
    },
    "tags": []
   },
   "outputs": [],
   "source": [
    "delivery_df['runs_left'] = delivery_df['total_runs_x'] - delivery_df['current_score']"
   ]
  },
  {
   "cell_type": "code",
   "execution_count": 21,
   "id": "fb70151c",
   "metadata": {
    "execution": {
     "iopub.execute_input": "2023-10-28T11:37:58.402296Z",
     "iopub.status.busy": "2023-10-28T11:37:58.401626Z",
     "iopub.status.idle": "2023-10-28T11:37:58.407316Z",
     "shell.execute_reply": "2023-10-28T11:37:58.406654Z"
    },
    "papermill": {
     "duration": 0.015433,
     "end_time": "2023-10-28T11:37:58.409194",
     "exception": false,
     "start_time": "2023-10-28T11:37:58.393761",
     "status": "completed"
    },
    "tags": []
   },
   "outputs": [],
   "source": [
    "delivery_df['balls_left'] = 126 - (delivery_df['over']*6 + delivery_df['ball'])"
   ]
  },
  {
   "cell_type": "code",
   "execution_count": 22,
   "id": "14fbc6a3",
   "metadata": {
    "execution": {
     "iopub.execute_input": "2023-10-28T11:37:58.424506Z",
     "iopub.status.busy": "2023-10-28T11:37:58.423846Z",
     "iopub.status.idle": "2023-10-28T11:37:58.471480Z",
     "shell.execute_reply": "2023-10-28T11:37:58.470468Z"
    },
    "papermill": {
     "duration": 0.058009,
     "end_time": "2023-10-28T11:37:58.473805",
     "exception": false,
     "start_time": "2023-10-28T11:37:58.415796",
     "status": "completed"
    },
    "tags": []
   },
   "outputs": [
    {
     "data": {
      "text/html": [
       "<div>\n",
       "<style scoped>\n",
       "    .dataframe tbody tr th:only-of-type {\n",
       "        vertical-align: middle;\n",
       "    }\n",
       "\n",
       "    .dataframe tbody tr th {\n",
       "        vertical-align: top;\n",
       "    }\n",
       "\n",
       "    .dataframe thead th {\n",
       "        text-align: right;\n",
       "    }\n",
       "</style>\n",
       "<table border=\"1\" class=\"dataframe\">\n",
       "  <thead>\n",
       "    <tr style=\"text-align: right;\">\n",
       "      <th></th>\n",
       "      <th>match_id</th>\n",
       "      <th>city</th>\n",
       "      <th>winner</th>\n",
       "      <th>total_runs_x</th>\n",
       "      <th>inning</th>\n",
       "      <th>batting_team</th>\n",
       "      <th>bowling_team</th>\n",
       "      <th>over</th>\n",
       "      <th>ball</th>\n",
       "      <th>batsman</th>\n",
       "      <th>...</th>\n",
       "      <th>penalty_runs</th>\n",
       "      <th>batsman_runs</th>\n",
       "      <th>extra_runs</th>\n",
       "      <th>total_runs_y</th>\n",
       "      <th>player_dismissed</th>\n",
       "      <th>dismissal_kind</th>\n",
       "      <th>fielder</th>\n",
       "      <th>current_score</th>\n",
       "      <th>runs_left</th>\n",
       "      <th>balls_left</th>\n",
       "    </tr>\n",
       "  </thead>\n",
       "  <tbody>\n",
       "    <tr>\n",
       "      <th>124</th>\n",
       "      <td>5</td>\n",
       "      <td>Bangalore</td>\n",
       "      <td>Royal Challengers Bangalore</td>\n",
       "      <td>157</td>\n",
       "      <td>2</td>\n",
       "      <td>Delhi Daredevils</td>\n",
       "      <td>Royal Challengers Bangalore</td>\n",
       "      <td>1</td>\n",
       "      <td>1</td>\n",
       "      <td>AP Tare</td>\n",
       "      <td>...</td>\n",
       "      <td>0</td>\n",
       "      <td>0</td>\n",
       "      <td>0</td>\n",
       "      <td>0</td>\n",
       "      <td>NaN</td>\n",
       "      <td>NaN</td>\n",
       "      <td>NaN</td>\n",
       "      <td>0</td>\n",
       "      <td>157</td>\n",
       "      <td>119</td>\n",
       "    </tr>\n",
       "    <tr>\n",
       "      <th>125</th>\n",
       "      <td>5</td>\n",
       "      <td>Bangalore</td>\n",
       "      <td>Royal Challengers Bangalore</td>\n",
       "      <td>157</td>\n",
       "      <td>2</td>\n",
       "      <td>Delhi Daredevils</td>\n",
       "      <td>Royal Challengers Bangalore</td>\n",
       "      <td>1</td>\n",
       "      <td>2</td>\n",
       "      <td>AP Tare</td>\n",
       "      <td>...</td>\n",
       "      <td>0</td>\n",
       "      <td>0</td>\n",
       "      <td>1</td>\n",
       "      <td>1</td>\n",
       "      <td>NaN</td>\n",
       "      <td>NaN</td>\n",
       "      <td>NaN</td>\n",
       "      <td>1</td>\n",
       "      <td>156</td>\n",
       "      <td>118</td>\n",
       "    </tr>\n",
       "    <tr>\n",
       "      <th>126</th>\n",
       "      <td>5</td>\n",
       "      <td>Bangalore</td>\n",
       "      <td>Royal Challengers Bangalore</td>\n",
       "      <td>157</td>\n",
       "      <td>2</td>\n",
       "      <td>Delhi Daredevils</td>\n",
       "      <td>Royal Challengers Bangalore</td>\n",
       "      <td>1</td>\n",
       "      <td>3</td>\n",
       "      <td>AP Tare</td>\n",
       "      <td>...</td>\n",
       "      <td>0</td>\n",
       "      <td>0</td>\n",
       "      <td>0</td>\n",
       "      <td>0</td>\n",
       "      <td>NaN</td>\n",
       "      <td>NaN</td>\n",
       "      <td>NaN</td>\n",
       "      <td>1</td>\n",
       "      <td>156</td>\n",
       "      <td>117</td>\n",
       "    </tr>\n",
       "    <tr>\n",
       "      <th>127</th>\n",
       "      <td>5</td>\n",
       "      <td>Bangalore</td>\n",
       "      <td>Royal Challengers Bangalore</td>\n",
       "      <td>157</td>\n",
       "      <td>2</td>\n",
       "      <td>Delhi Daredevils</td>\n",
       "      <td>Royal Challengers Bangalore</td>\n",
       "      <td>1</td>\n",
       "      <td>4</td>\n",
       "      <td>AP Tare</td>\n",
       "      <td>...</td>\n",
       "      <td>0</td>\n",
       "      <td>1</td>\n",
       "      <td>0</td>\n",
       "      <td>1</td>\n",
       "      <td>NaN</td>\n",
       "      <td>NaN</td>\n",
       "      <td>NaN</td>\n",
       "      <td>2</td>\n",
       "      <td>155</td>\n",
       "      <td>116</td>\n",
       "    </tr>\n",
       "    <tr>\n",
       "      <th>128</th>\n",
       "      <td>5</td>\n",
       "      <td>Bangalore</td>\n",
       "      <td>Royal Challengers Bangalore</td>\n",
       "      <td>157</td>\n",
       "      <td>2</td>\n",
       "      <td>Delhi Daredevils</td>\n",
       "      <td>Royal Challengers Bangalore</td>\n",
       "      <td>1</td>\n",
       "      <td>5</td>\n",
       "      <td>SW Billings</td>\n",
       "      <td>...</td>\n",
       "      <td>0</td>\n",
       "      <td>0</td>\n",
       "      <td>0</td>\n",
       "      <td>0</td>\n",
       "      <td>NaN</td>\n",
       "      <td>NaN</td>\n",
       "      <td>NaN</td>\n",
       "      <td>2</td>\n",
       "      <td>155</td>\n",
       "      <td>115</td>\n",
       "    </tr>\n",
       "    <tr>\n",
       "      <th>...</th>\n",
       "      <td>...</td>\n",
       "      <td>...</td>\n",
       "      <td>...</td>\n",
       "      <td>...</td>\n",
       "      <td>...</td>\n",
       "      <td>...</td>\n",
       "      <td>...</td>\n",
       "      <td>...</td>\n",
       "      <td>...</td>\n",
       "      <td>...</td>\n",
       "      <td>...</td>\n",
       "      <td>...</td>\n",
       "      <td>...</td>\n",
       "      <td>...</td>\n",
       "      <td>...</td>\n",
       "      <td>...</td>\n",
       "      <td>...</td>\n",
       "      <td>...</td>\n",
       "      <td>...</td>\n",
       "      <td>...</td>\n",
       "      <td>...</td>\n",
       "    </tr>\n",
       "    <tr>\n",
       "      <th>110174</th>\n",
       "      <td>11415</td>\n",
       "      <td>Hyderabad</td>\n",
       "      <td>Mumbai Indians</td>\n",
       "      <td>152</td>\n",
       "      <td>2</td>\n",
       "      <td>Chennai Super Kings</td>\n",
       "      <td>Mumbai Indians</td>\n",
       "      <td>20</td>\n",
       "      <td>2</td>\n",
       "      <td>RA Jadeja</td>\n",
       "      <td>...</td>\n",
       "      <td>0</td>\n",
       "      <td>1</td>\n",
       "      <td>0</td>\n",
       "      <td>1</td>\n",
       "      <td>NaN</td>\n",
       "      <td>NaN</td>\n",
       "      <td>NaN</td>\n",
       "      <td>152</td>\n",
       "      <td>0</td>\n",
       "      <td>4</td>\n",
       "    </tr>\n",
       "    <tr>\n",
       "      <th>110175</th>\n",
       "      <td>11415</td>\n",
       "      <td>Hyderabad</td>\n",
       "      <td>Mumbai Indians</td>\n",
       "      <td>152</td>\n",
       "      <td>2</td>\n",
       "      <td>Chennai Super Kings</td>\n",
       "      <td>Mumbai Indians</td>\n",
       "      <td>20</td>\n",
       "      <td>3</td>\n",
       "      <td>SR Watson</td>\n",
       "      <td>...</td>\n",
       "      <td>0</td>\n",
       "      <td>2</td>\n",
       "      <td>0</td>\n",
       "      <td>2</td>\n",
       "      <td>NaN</td>\n",
       "      <td>NaN</td>\n",
       "      <td>NaN</td>\n",
       "      <td>154</td>\n",
       "      <td>-2</td>\n",
       "      <td>3</td>\n",
       "    </tr>\n",
       "    <tr>\n",
       "      <th>110176</th>\n",
       "      <td>11415</td>\n",
       "      <td>Hyderabad</td>\n",
       "      <td>Mumbai Indians</td>\n",
       "      <td>152</td>\n",
       "      <td>2</td>\n",
       "      <td>Chennai Super Kings</td>\n",
       "      <td>Mumbai Indians</td>\n",
       "      <td>20</td>\n",
       "      <td>4</td>\n",
       "      <td>SR Watson</td>\n",
       "      <td>...</td>\n",
       "      <td>0</td>\n",
       "      <td>1</td>\n",
       "      <td>0</td>\n",
       "      <td>1</td>\n",
       "      <td>SR Watson</td>\n",
       "      <td>run out</td>\n",
       "      <td>KH Pandya</td>\n",
       "      <td>155</td>\n",
       "      <td>-3</td>\n",
       "      <td>2</td>\n",
       "    </tr>\n",
       "    <tr>\n",
       "      <th>110177</th>\n",
       "      <td>11415</td>\n",
       "      <td>Hyderabad</td>\n",
       "      <td>Mumbai Indians</td>\n",
       "      <td>152</td>\n",
       "      <td>2</td>\n",
       "      <td>Chennai Super Kings</td>\n",
       "      <td>Mumbai Indians</td>\n",
       "      <td>20</td>\n",
       "      <td>5</td>\n",
       "      <td>SN Thakur</td>\n",
       "      <td>...</td>\n",
       "      <td>0</td>\n",
       "      <td>2</td>\n",
       "      <td>0</td>\n",
       "      <td>2</td>\n",
       "      <td>NaN</td>\n",
       "      <td>NaN</td>\n",
       "      <td>NaN</td>\n",
       "      <td>157</td>\n",
       "      <td>-5</td>\n",
       "      <td>1</td>\n",
       "    </tr>\n",
       "    <tr>\n",
       "      <th>110178</th>\n",
       "      <td>11415</td>\n",
       "      <td>Hyderabad</td>\n",
       "      <td>Mumbai Indians</td>\n",
       "      <td>152</td>\n",
       "      <td>2</td>\n",
       "      <td>Chennai Super Kings</td>\n",
       "      <td>Mumbai Indians</td>\n",
       "      <td>20</td>\n",
       "      <td>6</td>\n",
       "      <td>SN Thakur</td>\n",
       "      <td>...</td>\n",
       "      <td>0</td>\n",
       "      <td>0</td>\n",
       "      <td>0</td>\n",
       "      <td>0</td>\n",
       "      <td>SN Thakur</td>\n",
       "      <td>lbw</td>\n",
       "      <td>NaN</td>\n",
       "      <td>157</td>\n",
       "      <td>-5</td>\n",
       "      <td>0</td>\n",
       "    </tr>\n",
       "  </tbody>\n",
       "</table>\n",
       "<p>53223 rows × 27 columns</p>\n",
       "</div>"
      ],
      "text/plain": [
       "        match_id       city                       winner  total_runs_x  \\\n",
       "124            5  Bangalore  Royal Challengers Bangalore           157   \n",
       "125            5  Bangalore  Royal Challengers Bangalore           157   \n",
       "126            5  Bangalore  Royal Challengers Bangalore           157   \n",
       "127            5  Bangalore  Royal Challengers Bangalore           157   \n",
       "128            5  Bangalore  Royal Challengers Bangalore           157   \n",
       "...          ...        ...                          ...           ...   \n",
       "110174     11415  Hyderabad               Mumbai Indians           152   \n",
       "110175     11415  Hyderabad               Mumbai Indians           152   \n",
       "110176     11415  Hyderabad               Mumbai Indians           152   \n",
       "110177     11415  Hyderabad               Mumbai Indians           152   \n",
       "110178     11415  Hyderabad               Mumbai Indians           152   \n",
       "\n",
       "        inning         batting_team                 bowling_team  over  ball  \\\n",
       "124          2     Delhi Daredevils  Royal Challengers Bangalore     1     1   \n",
       "125          2     Delhi Daredevils  Royal Challengers Bangalore     1     2   \n",
       "126          2     Delhi Daredevils  Royal Challengers Bangalore     1     3   \n",
       "127          2     Delhi Daredevils  Royal Challengers Bangalore     1     4   \n",
       "128          2     Delhi Daredevils  Royal Challengers Bangalore     1     5   \n",
       "...        ...                  ...                          ...   ...   ...   \n",
       "110174       2  Chennai Super Kings               Mumbai Indians    20     2   \n",
       "110175       2  Chennai Super Kings               Mumbai Indians    20     3   \n",
       "110176       2  Chennai Super Kings               Mumbai Indians    20     4   \n",
       "110177       2  Chennai Super Kings               Mumbai Indians    20     5   \n",
       "110178       2  Chennai Super Kings               Mumbai Indians    20     6   \n",
       "\n",
       "            batsman  ... penalty_runs batsman_runs  extra_runs  total_runs_y  \\\n",
       "124         AP Tare  ...            0            0           0             0   \n",
       "125         AP Tare  ...            0            0           1             1   \n",
       "126         AP Tare  ...            0            0           0             0   \n",
       "127         AP Tare  ...            0            1           0             1   \n",
       "128     SW Billings  ...            0            0           0             0   \n",
       "...             ...  ...          ...          ...         ...           ...   \n",
       "110174    RA Jadeja  ...            0            1           0             1   \n",
       "110175    SR Watson  ...            0            2           0             2   \n",
       "110176    SR Watson  ...            0            1           0             1   \n",
       "110177    SN Thakur  ...            0            2           0             2   \n",
       "110178    SN Thakur  ...            0            0           0             0   \n",
       "\n",
       "        player_dismissed  dismissal_kind    fielder  current_score  runs_left  \\\n",
       "124                  NaN             NaN        NaN              0        157   \n",
       "125                  NaN             NaN        NaN              1        156   \n",
       "126                  NaN             NaN        NaN              1        156   \n",
       "127                  NaN             NaN        NaN              2        155   \n",
       "128                  NaN             NaN        NaN              2        155   \n",
       "...                  ...             ...        ...            ...        ...   \n",
       "110174               NaN             NaN        NaN            152          0   \n",
       "110175               NaN             NaN        NaN            154         -2   \n",
       "110176         SR Watson         run out  KH Pandya            155         -3   \n",
       "110177               NaN             NaN        NaN            157         -5   \n",
       "110178         SN Thakur             lbw        NaN            157         -5   \n",
       "\n",
       "        balls_left  \n",
       "124            119  \n",
       "125            118  \n",
       "126            117  \n",
       "127            116  \n",
       "128            115  \n",
       "...            ...  \n",
       "110174           4  \n",
       "110175           3  \n",
       "110176           2  \n",
       "110177           1  \n",
       "110178           0  \n",
       "\n",
       "[53223 rows x 27 columns]"
      ]
     },
     "execution_count": 22,
     "metadata": {},
     "output_type": "execute_result"
    }
   ],
   "source": [
    "delivery_df"
   ]
  },
  {
   "cell_type": "code",
   "execution_count": null,
   "id": "1867f56f",
   "metadata": {
    "papermill": {
     "duration": 0.007016,
     "end_time": "2023-10-28T11:37:58.488330",
     "exception": false,
     "start_time": "2023-10-28T11:37:58.481314",
     "status": "completed"
    },
    "tags": []
   },
   "outputs": [],
   "source": []
  },
  {
   "cell_type": "code",
   "execution_count": null,
   "id": "4d56837c",
   "metadata": {
    "papermill": {
     "duration": 0.006799,
     "end_time": "2023-10-28T11:37:58.502171",
     "exception": false,
     "start_time": "2023-10-28T11:37:58.495372",
     "status": "completed"
    },
    "tags": []
   },
   "outputs": [],
   "source": []
  }
 ],
 "metadata": {
  "kernelspec": {
   "display_name": "Python 3",
   "language": "python",
   "name": "python3"
  },
  "language_info": {
   "codemirror_mode": {
    "name": "ipython",
    "version": 3
   },
   "file_extension": ".py",
   "mimetype": "text/x-python",
   "name": "python",
   "nbconvert_exporter": "python",
   "pygments_lexer": "ipython3",
   "version": "3.10.12"
  },
  "papermill": {
   "default_parameters": {},
   "duration": 5.56555,
   "end_time": "2023-10-28T11:37:58.928899",
   "environment_variables": {},
   "exception": null,
   "input_path": "__notebook__.ipynb",
   "output_path": "__notebook__.ipynb",
   "parameters": {},
   "start_time": "2023-10-28T11:37:53.363349",
   "version": "2.4.0"
  }
 },
 "nbformat": 4,
 "nbformat_minor": 5
}
