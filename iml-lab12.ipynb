{
 "cells": [
  {
   "cell_type": "code",
   "execution_count": 1,
   "id": "f8351200",
   "metadata": {
    "_cell_guid": "b1076dfc-b9ad-4769-8c92-a6c4dae69d19",
    "_uuid": "8f2839f25d086af736a60e9eeb907d3b93b6e0e5",
    "execution": {
     "iopub.execute_input": "2023-11-05T13:33:35.771343Z",
     "iopub.status.busy": "2023-11-05T13:33:35.770805Z",
     "iopub.status.idle": "2023-11-05T13:33:36.224970Z",
     "shell.execute_reply": "2023-11-05T13:33:36.223380Z"
    },
    "papermill": {
     "duration": 0.461293,
     "end_time": "2023-11-05T13:33:36.228040",
     "exception": false,
     "start_time": "2023-11-05T13:33:35.766747",
     "status": "completed"
    },
    "tags": []
   },
   "outputs": [
    {
     "name": "stdout",
     "output_type": "stream",
     "text": [
      "\n",
      "Keys of Iris dataset:\n",
      "Index(['Date', 'Open', 'High', 'Low', 'Close', 'Adj Close', 'Volume'], dtype='object')\n",
      "\n",
      "Number of rows and columns of Iris dataset:\n",
      "(127, 7)\n"
     ]
    }
   ],
   "source": [
    "# Name:- Majithiya Jal\n",
    "# Enrollment NO.:- 216270307082\n",
    "# Write a Python program using Scikit-learn to print the keys, number of rows\u0002columns, \n",
    "# feature names and the description of the given data.\n",
    "import pandas as pd\n",
    "iris_data = pd.read_csv(\"/kaggle/input/iml-data/alphabet_stock_data.csv\")\n",
    "print(\"\\nKeys of Iris dataset:\")\n",
    "print(iris_data.keys())\n",
    "print(\"\\nNumber of rows and columns of Iris dataset:\")\n",
    "print(iris_data.shape) "
   ]
  }
 ],
 "metadata": {
  "kernelspec": {
   "display_name": "Python 3",
   "language": "python",
   "name": "python3"
  },
  "language_info": {
   "codemirror_mode": {
    "name": "ipython",
    "version": 3
   },
   "file_extension": ".py",
   "mimetype": "text/x-python",
   "name": "python",
   "nbconvert_exporter": "python",
   "pygments_lexer": "ipython3",
   "version": "3.10.12"
  },
  "papermill": {
   "default_parameters": {},
   "duration": 4.700271,
   "end_time": "2023-11-05T13:33:36.752849",
   "environment_variables": {},
   "exception": null,
   "input_path": "__notebook__.ipynb",
   "output_path": "__notebook__.ipynb",
   "parameters": {},
   "start_time": "2023-11-05T13:33:32.052578",
   "version": "2.4.0"
  }
 },
 "nbformat": 4,
 "nbformat_minor": 5
}
